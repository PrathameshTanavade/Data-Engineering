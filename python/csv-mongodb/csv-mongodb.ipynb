{
 "cells": [
  {
   "cell_type": "code",
   "execution_count": 1,
   "id": "3d0a8d2a-13b4-47a8-841f-82016fed9557",
   "metadata": {},
   "outputs": [],
   "source": [
    "import os\n",
    "import glob\n",
    "from dotenv import load_dotenv\n",
    "import pandas as pd"
   ]
  },
  {
   "cell_type": "code",
   "execution_count": 2,
   "id": "fdfe8274-19c7-450e-953d-6320fd324e31",
   "metadata": {},
   "outputs": [
    {
     "name": "stdout",
     "output_type": "stream",
     "text": [
      "Pinged your deployment. You successfully connected to MongoDB!\n"
     ]
    }
   ],
   "source": [
    "from pymongo import MongoClient\n",
    "\n",
    "# Connecting to Database --------------------------\n",
    "load_dotenv()\n",
    "MONGODB_URI=os.environ['MONGODB_URI']\n",
    "client=MongoClient(MONGODB_URI)\n",
    "\n",
    "try:\n",
    "    client.admin.command('ping')\n",
    "    print(\"Pinged your deployment. You successfully connected to MongoDB!\")\n",
    "except Exception as e:\n",
    "    print(e)\n",
    "\n",
    "db=client.PORTFOLIO_PROJECTS\n",
    "account_collection=db[\"python- csv to mongodb\"]\n",
    "# --------------------------------------------------------------"
   ]
  },
  {
   "cell_type": "code",
   "execution_count": 3,
   "id": "731f8d77-53bc-47a6-9473-2c323702eb00",
   "metadata": {},
   "outputs": [],
   "source": [
    "# \n",
    "def extract_listing_csv(filename):\n",
    "    df_listing_01=pd.read_csv(filename,quotechar='\"',parse_dates=['last_scraped','host_since','calendar_updated','first_review','last_review'])\n",
    "    return df_listing_01\n",
    "\n",
    "def extract_review_csv(filename):\n",
    "    df_reviews_01=pd.read_csv(filename, quotechar='\"', parse_dates=['date'])\n",
    "    return df_reviews_01\n",
    "\n",
    "df_listings=pd.DataFrame()\n",
    "df_reviews=pd.DataFrame()\n",
    "\n",
    "\n",
    "for listingfile in glob.glob(\"data/listings/*/*.csv\"):\n",
    "    df=extract_listing_csv(listingfile)\n",
    "    df_listings=pd.concat([df_listings,df],ignore_index=True)\n",
    "\n",
    "for reviewfile in glob.glob(\"data/reviews/*/*.csv\"):\n",
    "    df=extract_review_csv(reviewfile)\n",
    "    df_reviews=pd.concat([df_reviews,extract_review_csv(reviewfile)],ignore_index=True)"
   ]
  },
  {
   "cell_type": "code",
   "execution_count": 4,
   "id": "64e419bf-7639-4dec-85c7-bb7777cf9fdf",
   "metadata": {},
   "outputs": [],
   "source": [
    "data=df_listings.merge(df_reviews , left_on='id', right_on='listing_id')\n",
    "data.rename(columns={'id_x':'id', 'id_y':'review_id'},inplace=True)\n",
    "data.drop(columns='listing_id',inplace=True)\n",
    "data['price']=data['price'].replace({'\\$': '', ',': ''}, regex=True).astype(float)"
   ]
  },
  {
   "cell_type": "code",
   "execution_count": 5,
   "id": "cb132ef1-c270-46cb-91fc-4d69a9b5b06c",
   "metadata": {},
   "outputs": [],
   "source": [
    "column_list=['last_scraped','host_since','calendar_updated','first_review','last_review','date']\n",
    "for x in column_list:\n",
    "    data[x]=data[x].fillna(\"0000-00-00\")"
   ]
  },
  {
   "cell_type": "code",
   "execution_count": 6,
   "id": "51bb0420-eee1-44f6-bdb4-89cfa5566f22",
   "metadata": {},
   "outputs": [],
   "source": [
    "data=data.head(10000)\n",
    "data_dict=data.to_dict('records')"
   ]
  },
  {
   "cell_type": "code",
   "execution_count": 7,
   "id": "739b68b2-cb78-4cc4-8eba-0c28236e90e4",
   "metadata": {},
   "outputs": [
    {
     "name": "stdout",
     "output_type": "stream",
     "text": [
      "# of documents inserted:10000\n"
     ]
    }
   ],
   "source": [
    "# Loading data onto MongoDB ------------------------------------------------\n",
    "try:\n",
    "    result=account_collection.insert_many(data_dict)\n",
    "    document_id=result.inserted_ids\n",
    "    print(\"# of documents inserted:\" + str(len(document_id)))\n",
    "\n",
    "except Exception as e:\n",
    "    print(e)\n",
    "# ---------------------------------------------------------------------------\n",
    "\n",
    "client.close()\n"
   ]
  },
  {
   "cell_type": "code",
   "execution_count": 8,
   "id": "4ffb3821-f536-4d02-98f9-5bb0ca5d4993",
   "metadata": {},
   "outputs": [],
   "source": [
    "client.close()"
   ]
  }
 ],
 "metadata": {
  "kernelspec": {
   "display_name": "Python 3 (ipykernel)",
   "language": "python",
   "name": "python3"
  },
  "language_info": {
   "codemirror_mode": {
    "name": "ipython",
    "version": 3
   },
   "file_extension": ".py",
   "mimetype": "text/x-python",
   "name": "python",
   "nbconvert_exporter": "python",
   "pygments_lexer": "ipython3",
   "version": "3.10.8"
  }
 },
 "nbformat": 4,
 "nbformat_minor": 5
}

{
 "cells": [
  {
   "cell_type": "code",
   "execution_count": 1,
   "id": "99d4b95c-58d2-43fe-a7dd-f5c76e94dfdb",
   "metadata": {
    "tags": []
   },
   "outputs": [],
   "source": [
    "from pyspark.sql import SparkSession\n",
    "\n",
    "from pyspark.sql.types import StructType, IntegerType , StringType\n",
    "from pyspark.sql.functions import *"
   ]
  },
  {
   "cell_type": "code",
   "execution_count": 2,
   "id": "a8b07216-cc34-4efb-8619-ae9dd3151a19",
   "metadata": {},
   "outputs": [
    {
     "name": "stderr",
     "output_type": "stream",
     "text": [
      "Picked up _JAVA_OPTIONS: -Dawt.useSystemAAFontSettings=on -Dswing.aatext=true\n",
      "Picked up _JAVA_OPTIONS: -Dawt.useSystemAAFontSettings=on -Dswing.aatext=true\n",
      "Setting default log level to \"WARN\".\n",
      "To adjust logging level use sc.setLogLevel(newLevel). For SparkR, use setLogLevel(newLevel).\n"
     ]
    },
    {
     "name": "stdout",
     "output_type": "stream",
     "text": [
      "23/02/18 09:18:19 WARN NativeCodeLoader: Unable to load native-hadoop library for your platform... using builtin-java classes where applicable\n"
     ]
    }
   ],
   "source": [
    "spark=SparkSession.builder.appName('Streamed JSON records to CSV files').getOrCreate()"
   ]
  },
  {
   "cell_type": "code",
   "execution_count": 3,
   "id": "80f846fe-4e15-4467-bdaf-b79c031ed395",
   "metadata": {},
   "outputs": [],
   "source": [
    "schema=StructType()\\\n",
    "    .add(\"id\",IntegerType())\\\n",
    "    .add(\"name\",StringType())\\\n",
    "    .add(\"host_id\", IntegerType())\\\n",
    "    .add(\"neighbourhood_cleansed\",StringType())\\\n",
    "    .add(\"price\",StringType())"
   ]
  },
  {
   "cell_type": "code",
   "execution_count": 4,
   "id": "1647cb5c-eda2-48b3-a7b3-8d8bd279eea3",
   "metadata": {},
   "outputs": [
    {
     "name": "stdout",
     "output_type": "stream",
     "text": [
      "23/02/18 09:18:53 WARN TextSocketSourceProvider: The socket source should not be used for production applications! It does not support recovery.\n"
     ]
    }
   ],
   "source": [
    "lines=spark\\\n",
    "        .readStream\\\n",
    "        .format('socket')\\\n",
    "        .option('host', 'localhost')\\\n",
    "        .option('port', 9999)\\\n",
    "        .load()\\\n",
    "        .select(from_json(col(\"value\").cast(\"string\"),schema).alias(\"json\"))\\\n",
    "        .select(col(\"json.*\"))"
   ]
  },
  {
   "cell_type": "code",
   "execution_count": 5,
   "id": "adf06dd7-fb9c-4845-a334-9196bbc19568",
   "metadata": {},
   "outputs": [],
   "source": [
    "transformation=lines.withColumn('price', regexp_replace('price','([$])',''))\\\n",
    "                    .withColumn(\"price\" , col(\"price\").cast(IntegerType()))"
   ]
  },
  {
   "cell_type": "code",
   "execution_count": 6,
   "id": "ad8e0147-57c9-4841-9a46-28262a7719fa",
   "metadata": {},
   "outputs": [
    {
     "name": "stdout",
     "output_type": "stream",
     "text": [
      "23/02/18 09:19:35 WARN ResolveWriteToStream: spark.sql.adaptive.enabled is not supported in streaming DataFrames/Datasets and will be disabled.\n"
     ]
    },
    {
     "name": "stderr",
     "output_type": "stream",
     "text": [
      "                                                                                \r"
     ]
    },
    {
     "name": "stdout",
     "output_type": "stream",
     "text": [
      "23/02/18 09:24:04 WARN TextSocketMicroBatchStream: Stream closed by localhost:9999\n"
     ]
    }
   ],
   "source": [
    "query=transformation\\\n",
    "        .writeStream\\\n",
    "        .outputMode(\"append\")\\\n",
    "        .format(\"csv\")\\\n",
    "        .option(\"checkpointLocation\", \"checkpoint\")\\\n",
    "        .option(\"path\",\"output\")\\\n",
    "        .start()"
   ]
  },
  {
   "cell_type": "code",
   "execution_count": 74,
   "id": "a4f44cf7-6f96-47b1-a93a-67d7fc22b415",
   "metadata": {},
   "outputs": [
    {
     "name": "stdout",
     "output_type": "stream",
     "text": [
      "root\n",
      " |-- id: integer (nullable = true)\n",
      " |-- name: string (nullable = true)\n",
      " |-- host_id: integer (nullable = true)\n",
      " |-- neighbourhood_cleansed: string (nullable = true)\n",
      " |-- price: integer (nullable = true)\n",
      "\n"
     ]
    }
   ],
   "source": [
    "transformation.printSchema()"
   ]
  },
  {
   "cell_type": "code",
   "execution_count": 75,
   "id": "64cafc65-4c2b-4684-9acc-f4353b0940b1",
   "metadata": {},
   "outputs": [],
   "source": [
    "query.stop()"
   ]
  },
  {
   "cell_type": "code",
   "execution_count": null,
   "id": "45191d61-0f9f-4503-8b30-75e826ee1a02",
   "metadata": {},
   "outputs": [],
   "source": []
  }
 ],
 "metadata": {
  "kernelspec": {
   "display_name": "Python 3 (ipykernel)",
   "language": "python",
   "name": "python3"
  },
  "language_info": {
   "codemirror_mode": {
    "name": "ipython",
    "version": 3
   },
   "file_extension": ".py",
   "mimetype": "text/x-python",
   "name": "python",
   "nbconvert_exporter": "python",
   "pygments_lexer": "ipython3",
   "version": "3.10.8"
  }
 },
 "nbformat": 4,
 "nbformat_minor": 5
}

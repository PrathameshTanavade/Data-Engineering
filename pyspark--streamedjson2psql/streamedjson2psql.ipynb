{
 "cells": [
  {
   "cell_type": "code",
   "execution_count": 1,
   "id": "99d4b95c-58d2-43fe-a7dd-f5c76e94dfdb",
   "metadata": {},
   "outputs": [],
   "source": [
    "from pyspark.sql import SparkSession\n",
    "\n",
    "from pyspark.sql.types import StructType, IntegerType , StringType\n",
    "from pyspark.sql.functions import *"
   ]
  },
  {
   "cell_type": "code",
   "execution_count": 2,
   "id": "a8b07216-cc34-4efb-8619-ae9dd3151a19",
   "metadata": {},
   "outputs": [
    {
     "name": "stderr",
     "output_type": "stream",
     "text": [
      "Picked up _JAVA_OPTIONS: -Dawt.useSystemAAFontSettings=on -Dswing.aatext=true\n",
      "Picked up _JAVA_OPTIONS: -Dawt.useSystemAAFontSettings=on -Dswing.aatext=true\n"
     ]
    },
    {
     "name": "stdout",
     "output_type": "stream",
     "text": [
      "23/02/18 10:08:38 WARN NativeCodeLoader: Unable to load native-hadoop library for your platform... using builtin-java classes where applicable\n"
     ]
    },
    {
     "name": "stderr",
     "output_type": "stream",
     "text": [
      "Setting default log level to \"WARN\".\n",
      "To adjust logging level use sc.setLogLevel(newLevel). For SparkR, use setLogLevel(newLevel).\n"
     ]
    }
   ],
   "source": [
    "spark=SparkSession\\\n",
    "        .builder\\\n",
    "        .appName('Streamed JSON records to PostgreSQL')\\\n",
    "        .config(\"spark.jars\", \"postgresql-42.5.4.jar\")\\\n",
    "        .getOrCreate()"
   ]
  },
  {
   "cell_type": "code",
   "execution_count": 3,
   "id": "80f846fe-4e15-4467-bdaf-b79c031ed395",
   "metadata": {},
   "outputs": [],
   "source": [
    "schema=StructType()\\\n",
    "    .add(\"id\",IntegerType())\\\n",
    "    .add(\"name\",StringType())\\\n",
    "    .add(\"host_id\", IntegerType())\\\n",
    "    .add(\"neighbourhood_cleansed\",StringType())\\\n",
    "    .add(\"price\",StringType())"
   ]
  },
  {
   "cell_type": "code",
   "execution_count": 4,
   "id": "1647cb5c-eda2-48b3-a7b3-8d8bd279eea3",
   "metadata": {},
   "outputs": [
    {
     "name": "stdout",
     "output_type": "stream",
     "text": [
      "23/02/18 10:08:43 WARN TextSocketSourceProvider: The socket source should not be used for production applications! It does not support recovery.\n"
     ]
    }
   ],
   "source": [
    "lines=spark\\\n",
    "        .readStream\\\n",
    "        .format('socket')\\\n",
    "        .option('host', 'localhost')\\\n",
    "        .option('port', 9999)\\\n",
    "        .load()\\\n",
    "        .select(from_json(col(\"value\").cast(\"string\"),schema).alias(\"json\"))\\\n",
    "        .select(col(\"json.*\"))\n",
    "        \n"
   ]
  },
  {
   "cell_type": "code",
   "execution_count": 5,
   "id": "cd55e5f9-c684-4813-b0c5-09c2ce8e9a0d",
   "metadata": {},
   "outputs": [],
   "source": [
    "transformation=lines.withColumn('price', regexp_replace('price','([$])',''))\\\n",
    "                    .withColumn(\"price\" , col(\"price\").cast(IntegerType()))\\\n",
    "                    .withColumnRenamed(\"neighbourhood_cleansed\",\"neighbourhood\")"
   ]
  },
  {
   "cell_type": "code",
   "execution_count": 6,
   "id": "35ca109c-67d5-4cca-9d48-c958d69479b8",
   "metadata": {},
   "outputs": [
    {
     "name": "stdout",
     "output_type": "stream",
     "text": [
      "root\n",
      " |-- id: integer (nullable = true)\n",
      " |-- name: string (nullable = true)\n",
      " |-- host_id: integer (nullable = true)\n",
      " |-- neighbourhood: string (nullable = true)\n",
      " |-- price: integer (nullable = true)\n",
      "\n"
     ]
    }
   ],
   "source": [
    "transformation.printSchema()"
   ]
  },
  {
   "cell_type": "code",
   "execution_count": 7,
   "id": "53e9ac69-120a-428e-a273-cad4f2ba0096",
   "metadata": {},
   "outputs": [],
   "source": [
    "from pyspark.sql import *\n",
    "def load_psql(row, epochId):\n",
    "    row.write\\\n",
    "        .format(\"jdbc\") \\\n",
    "        .option(\"url\", \"jdbc:postgresql:database1\") \\\n",
    "        .option(\"dbtable\", \"spark\") \\\n",
    "        .option(\"user\", \"kali\")\\\n",
    "        .option(\"password\", \"kali\")\\\n",
    "        .option(\"driver\",\"org.postgresql.Driver\")\\\n",
    "        .mode(\"append\")\\\n",
    "        .save()\n",
    "        \n",
    "       \n",
    "       "
   ]
  },
  {
   "cell_type": "code",
   "execution_count": 9,
   "id": "ad8e0147-57c9-4841-9a46-28262a7719fa",
   "metadata": {},
   "outputs": [
    {
     "name": "stdout",
     "output_type": "stream",
     "text": [
      "23/02/18 10:18:53 WARN ResolveWriteToStream: Temporary checkpoint location created which is deleted normally when the query didn't fail: /tmp/temporary-050bfe70-b7d9-499f-91ab-2900783a400c. If it's required to delete it under any circumstances, please set spark.sql.streaming.forceDeleteTempCheckpointLocation to true. Important to know deleting temp checkpoint folder is best effort.\n",
      "23/02/18 10:18:53 WARN ResolveWriteToStream: spark.sql.adaptive.enabled is not supported in streaming DataFrames/Datasets and will be disabled.\n"
     ]
    }
   ],
   "source": [
    "query=transformation\\\n",
    "        .writeStream\\\n",
    "        .foreachBatch(load_psql)\\\n",
    "        .start()\n"
   ]
  },
  {
   "cell_type": "code",
   "execution_count": 10,
   "id": "64cafc65-4c2b-4684-9acc-f4353b0940b1",
   "metadata": {},
   "outputs": [],
   "source": [
    "query.stop()"
   ]
  },
  {
   "cell_type": "code",
   "execution_count": 11,
   "id": "45191d61-0f9f-4503-8b30-75e826ee1a02",
   "metadata": {},
   "outputs": [],
   "source": [
    "spark.stop()"
   ]
  },
  {
   "cell_type": "code",
   "execution_count": null,
   "id": "8eab708e-09ab-4f84-96b9-bd924dc32a50",
   "metadata": {},
   "outputs": [],
   "source": []
  }
 ],
 "metadata": {
  "kernelspec": {
   "display_name": "Python 3 (ipykernel)",
   "language": "python",
   "name": "python3"
  },
  "language_info": {
   "codemirror_mode": {
    "name": "ipython",
    "version": 3
   },
   "file_extension": ".py",
   "mimetype": "text/x-python",
   "name": "python",
   "nbconvert_exporter": "python",
   "pygments_lexer": "ipython3",
   "version": "3.10.8"
  }
 },
 "nbformat": 4,
 "nbformat_minor": 5
}
